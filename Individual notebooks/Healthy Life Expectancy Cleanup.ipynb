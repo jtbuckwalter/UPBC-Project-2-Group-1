{
 "cells": [
  {
   "cell_type": "code",
   "execution_count": 1,
   "id": "4ced2bcb",
   "metadata": {},
   "outputs": [],
   "source": [
    "import pandas as pd\n",
    "from sqlalchemy import create_engine"
   ]
  },
  {
   "cell_type": "code",
   "execution_count": 16,
   "id": "fc896905",
   "metadata": {},
   "outputs": [
    {
     "data": {
      "text/html": [
       "<div>\n",
       "<style scoped>\n",
       "    .dataframe tbody tr th:only-of-type {\n",
       "        vertical-align: middle;\n",
       "    }\n",
       "\n",
       "    .dataframe tbody tr th {\n",
       "        vertical-align: top;\n",
       "    }\n",
       "\n",
       "    .dataframe thead th {\n",
       "        text-align: right;\n",
       "    }\n",
       "</style>\n",
       "<table border=\"1\" class=\"dataframe\">\n",
       "  <thead>\n",
       "    <tr style=\"text-align: right;\">\n",
       "      <th></th>\n",
       "      <th>Indicator</th>\n",
       "      <th>Location</th>\n",
       "      <th>Year</th>\n",
       "      <th>Sex</th>\n",
       "      <th>Healthy Life Expectancy</th>\n",
       "    </tr>\n",
       "  </thead>\n",
       "  <tbody>\n",
       "    <tr>\n",
       "      <th>0</th>\n",
       "      <td>Healthy life expectancy (HALE) at birth (years)</td>\n",
       "      <td>Lesotho</td>\n",
       "      <td>2015</td>\n",
       "      <td>Both sexes</td>\n",
       "      <td>42.0</td>\n",
       "    </tr>\n",
       "    <tr>\n",
       "      <th>1</th>\n",
       "      <td>Healthy life expectancy (HALE) at birth (years)</td>\n",
       "      <td>Central African Republic</td>\n",
       "      <td>2015</td>\n",
       "      <td>Both sexes</td>\n",
       "      <td>44.0</td>\n",
       "    </tr>\n",
       "    <tr>\n",
       "      <th>2</th>\n",
       "      <td>Healthy life expectancy (HALE) at birth (years)</td>\n",
       "      <td>Eswatini</td>\n",
       "      <td>2015</td>\n",
       "      <td>Both sexes</td>\n",
       "      <td>47.0</td>\n",
       "    </tr>\n",
       "    <tr>\n",
       "      <th>3</th>\n",
       "      <td>Healthy life expectancy (HALE) at birth (years)</td>\n",
       "      <td>Somalia</td>\n",
       "      <td>2015</td>\n",
       "      <td>Both sexes</td>\n",
       "      <td>48.0</td>\n",
       "    </tr>\n",
       "    <tr>\n",
       "      <th>4</th>\n",
       "      <td>Healthy life expectancy (HALE) at birth (years)</td>\n",
       "      <td>Mozambique</td>\n",
       "      <td>2015</td>\n",
       "      <td>Both sexes</td>\n",
       "      <td>49.0</td>\n",
       "    </tr>\n",
       "  </tbody>\n",
       "</table>\n",
       "</div>"
      ],
      "text/plain": [
       "                                         Indicator                  Location  \\\n",
       "0  Healthy life expectancy (HALE) at birth (years)                   Lesotho   \n",
       "1  Healthy life expectancy (HALE) at birth (years)  Central African Republic   \n",
       "2  Healthy life expectancy (HALE) at birth (years)                  Eswatini   \n",
       "3  Healthy life expectancy (HALE) at birth (years)                   Somalia   \n",
       "4  Healthy life expectancy (HALE) at birth (years)                Mozambique   \n",
       "\n",
       "   Year         Sex  Healthy Life Expectancy  \n",
       "0  2015  Both sexes                     42.0  \n",
       "1  2015  Both sexes                     44.0  \n",
       "2  2015  Both sexes                     47.0  \n",
       "3  2015  Both sexes                     48.0  \n",
       "4  2015  Both sexes                     49.0  "
      ]
     },
     "execution_count": 16,
     "metadata": {},
     "output_type": "execute_result"
    }
   ],
   "source": [
    "healthy_life_expectancy_file = \"healthy_life_expectancy_data.csv\"\n",
    "healthy_life_expectancy_df = pd.read_csv(healthy_life_expectancy_file)\n",
    "\n",
    "healthy_life_expectancy_df2 = healthy_life_expectancy_df[['Indicator','Location','Period','Dim1','Value']]\n",
    "\n",
    "healthy_life_expectancy_df3 = healthy_life_expectancy_df2[(healthy_life_expectancy_df2.Indicator=='Healthy life expectancy (HALE) at birth (years)')&(healthy_life_expectancy_df2.Period == 2015) & (healthy_life_expectancy_df2.Dim1 == 'Both sexes')]\n",
    "healthy_life_expectancy_df3.rename(columns={'Value': 'Healthy Life Expectancy','Period':'Year','Dim1':'Sex'}, inplace=True)\n",
    "\n",
    "healthy_life_expectancy_df3.reset_index(drop=True, inplace=True)\n",
    "\n",
    "healthy_life_expectancy_df3.head()"
   ]
  },
  {
   "cell_type": "code",
   "execution_count": null,
   "id": "49a93f0d",
   "metadata": {},
   "outputs": [],
   "source": []
  },
  {
   "cell_type": "code",
   "execution_count": null,
   "id": "25da70c5",
   "metadata": {},
   "outputs": [],
   "source": []
  }
 ],
 "metadata": {
  "kernelspec": {
   "display_name": "Python 3 (ipykernel)",
   "language": "python",
   "name": "python3"
  },
  "language_info": {
   "codemirror_mode": {
    "name": "ipython",
    "version": 3
   },
   "file_extension": ".py",
   "mimetype": "text/x-python",
   "name": "python",
   "nbconvert_exporter": "python",
   "pygments_lexer": "ipython3",
   "version": "3.9.7"
  }
 },
 "nbformat": 4,
 "nbformat_minor": 5
}
